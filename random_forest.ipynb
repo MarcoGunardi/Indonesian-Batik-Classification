{
 "cells": [
  {
   "cell_type": "code",
   "execution_count": 1,
   "metadata": {},
   "outputs": [],
   "source": [
    "import cv2\n",
    "import numpy as np\n",
    "from sklearn.model_selection import train_test_split\n",
    "from sklearn.ensemble import RandomForestClassifier\n",
    "\n",
    "from sklearn.metrics import classification_report, accuracy_score\n",
    "from tensorflow.keras.preprocessing.image import load_img, img_to_array\n",
    "from PIL import Image\n",
    "import tensorflow as tf\n",
    "import os\n",
    "from collections import defaultdict"
   ]
  },
  {
   "cell_type": "code",
   "execution_count": 2,
   "metadata": {},
   "outputs": [],
   "source": [
    "def augment_image(image):\n",
    "    augmented_images = []\n",
    "    augmented_images.append(image)\n",
    "    augmented_images.append(tf.image.flip_left_right(image))\n",
    "    augmented_images.append(tf.image.rot90(image))\n",
    "    augmented_images.append(tf.image.flip_up_down(image))\n",
    "    \n",
    "    return augmented_images"
   ]
  },
  {
   "cell_type": "code",
   "execution_count": 3,
   "metadata": {},
   "outputs": [],
   "source": [
    "def preprocess_and_extract_features(images, labels):\n",
    "    sift = cv2.SIFT_create()\n",
    "    descriptors = []\n",
    "    descriptor_labels = []\n",
    "    \n",
    "    for img, label in zip(images, labels):\n",
    "        try:\n",
    "            if isinstance(img, tf.Tensor):\n",
    "                img = img.numpy()\n",
    "            resized_img = cv2.resize(img, (224, 224))\n",
    "            \n",
    "            if np.max(resized_img) <= 1.0:\n",
    "                resized_img = (resized_img * 255).astype(np.uint8)\n",
    "            else:\n",
    "                resized_img = resized_img.astype(np.uint8)\n",
    "            keypoints, desc = sift.detectAndCompute(resized_img, None)\n",
    "            \n",
    "            if desc is not None and len(desc) > 0:\n",
    "                descriptors.append(desc)\n",
    "                descriptor_labels.append(label)\n",
    "            else:\n",
    "                print(f\"No descriptors found for label {label}. Skipping this image.\")\n",
    "\n",
    "        except Exception as e:\n",
    "            print(f\"Error processing image with label {label}: {e}\")\n",
    "    \n",
    "    if len(descriptors) == 0:\n",
    "        raise ValueError(\"No valid descriptors found in the dataset.\")\n",
    "    \n",
    "    combined_descriptors = np.vstack(descriptors)\n",
    "    combined_labels = np.hstack([[label] * len(desc) for label, desc in zip(descriptor_labels, descriptors)])\n",
    "    \n",
    "    return combined_descriptors, combined_labels"
   ]
  },
  {
   "cell_type": "code",
   "execution_count": 4,
   "metadata": {},
   "outputs": [],
   "source": [
    "# Load dataset\n",
    "dataset_path = \"./batik_assets/\"\n",
    "images = []\n",
    "class_list = []\n",
    "label_class = ['batik-bali', 'batik-betawi', 'batik-celup', 'batik-cendrawasih', 'batik-ceplok', 'batik-ciamis', 'batik-garutan', 'batik-gentongan', 'batik-kawung', 'batik-keraton', 'batik-lasem', 'batik-megamendung', 'batik-parang', 'batik-pekalongan', 'batik-priangan', 'batik-sekar', 'batik-sidoluhur', 'batik-sidomukti', 'batik-sogan', 'batik-tambal']\n",
    "class_images = defaultdict(list)"
   ]
  },
  {
   "cell_type": "code",
   "execution_count": 5,
   "metadata": {},
   "outputs": [
    {
     "name": "stdout",
     "output_type": "stream",
     "text": [
      "Error processing file ./batik_assets/batik-cendrawasih\\18.jpg: cannot identify image file <_io.BytesIO object at 0x000002BCFF92E1B0>\n"
     ]
    }
   ],
   "source": [
    "for i, class_name in enumerate(label_class):\n",
    "    class_path = os.path.join(dataset_path, class_name)\n",
    "    if os.path.isdir(class_path):\n",
    "        for j, file in enumerate(os.listdir(class_path)):\n",
    "            try:\n",
    "                file_path = os.path.join(class_path, file)\n",
    "                image = load_img(file_path)\n",
    "                image = img_to_array(image)\n",
    "                image = tf.image.resize(image, (256, 256)) / 255.0\n",
    "\n",
    "                augmented_images = augment_image(image)\n",
    "                for aug_image in augmented_images:\n",
    "                    class_images[class_name].append((aug_image, i))\n",
    "\n",
    "            except Exception as e:\n",
    "                print(f\"Error processing file {file_path}: {e}\")"
   ]
  },
  {
   "cell_type": "code",
   "execution_count": 6,
   "metadata": {},
   "outputs": [],
   "source": [
    "all_images = []\n",
    "all_labels = []\n",
    "\n",
    "for class_name, images_and_labels in class_images.items():\n",
    "    for img, label in images_and_labels:\n",
    "        all_images.append(img.numpy()) \n",
    "        all_labels.append(label)\n",
    "\n",
    "all_images = np.array(all_images)\n",
    "all_labels = np.array(all_labels)\n",
    "\n",
    "train_images, test_images, train_labels, test_labels = train_test_split(\n",
    "    all_images, all_labels, test_size=0.2, stratify=all_labels, random_state=42\n",
    ")\n",
    "\n",
    "descriptors_train, labels_train = preprocess_and_extract_features(train_images, train_labels)\n",
    "descriptors_test, labels_test = preprocess_and_extract_features(test_images, test_labels)"
   ]
  },
  {
   "cell_type": "code",
   "execution_count": 7,
   "metadata": {},
   "outputs": [
    {
     "name": "stdout",
     "output_type": "stream",
     "text": [
      "Random Forest Classification Report:\n",
      "              precision    recall  f1-score   support\n",
      "\n",
      "           0       0.66      0.60      0.63     37893\n",
      "           1       0.75      0.86      0.80     30787\n",
      "           2       0.82      0.92      0.87     23504\n",
      "           3       0.86      0.80      0.83     27943\n",
      "           4       0.75      0.59      0.66     36255\n",
      "           5       0.81      0.81      0.81     36182\n",
      "           6       0.90      0.82      0.86     37087\n",
      "           7       0.79      0.80      0.79     32880\n",
      "           8       0.82      0.86      0.84     34864\n",
      "           9       0.72      0.81      0.76     37251\n",
      "          10       0.55      0.85      0.67     41558\n",
      "          11       0.84      0.95      0.89     24469\n",
      "          12       0.78      0.79      0.78     32515\n",
      "          13       0.80      0.73      0.76     36503\n",
      "          14       0.82      0.79      0.81     34459\n",
      "          15       0.92      0.71      0.80     25652\n",
      "          16       0.80      0.68      0.73     32131\n",
      "          17       0.81      0.64      0.71     24032\n",
      "          18       0.87      0.76      0.81     24335\n",
      "          19       0.80      0.81      0.80     34899\n",
      "\n",
      "    accuracy                           0.78    645199\n",
      "   macro avg       0.79      0.78      0.78    645199\n",
      "weighted avg       0.79      0.78      0.78    645199\n",
      "\n",
      "Random Forest Accuracy: 0.775614965305278\n"
     ]
    }
   ],
   "source": [
    "from sklearn.ensemble import RandomForestClassifier\n",
    "from sklearn.metrics import classification_report, accuracy_score\n",
    "\n",
    "rf_model = RandomForestClassifier(n_estimators=100, random_state=42)\n",
    "rf_model.fit(descriptors_train, labels_train)\n",
    "y_pred_rf = rf_model.predict(descriptors_test)\n",
    "\n",
    "print(\"Random Forest Classification Report:\")\n",
    "print(classification_report(labels_test, y_pred_rf))\n",
    "print(\"Random Forest Accuracy:\", accuracy_score(labels_test, y_pred_rf))\n"
   ]
  }
 ],
 "metadata": {
  "kernelspec": {
   "display_name": "Python 3",
   "language": "python",
   "name": "python3"
  },
  "language_info": {
   "codemirror_mode": {
    "name": "ipython",
    "version": 3
   },
   "file_extension": ".py",
   "mimetype": "text/x-python",
   "name": "python",
   "nbconvert_exporter": "python",
   "pygments_lexer": "ipython3",
   "version": "3.10.4"
  }
 },
 "nbformat": 4,
 "nbformat_minor": 2
}
