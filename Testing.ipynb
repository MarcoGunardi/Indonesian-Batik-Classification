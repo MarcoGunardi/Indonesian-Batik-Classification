{
 "cells": [
  {
   "cell_type": "code",
   "execution_count": 2,
   "metadata": {},
   "outputs": [
    {
     "name": "stderr",
     "output_type": "stream",
     "text": [
      "WARNING:absl:Compiled the loaded model, but the compiled metrics have yet to be built. `model.compile_metrics` will be empty until you train or evaluate the model.\n"
     ]
    },
    {
     "name": "stdout",
     "output_type": "stream",
     "text": [
      "\u001b[1m1/1\u001b[0m \u001b[32m━━━━━━━━━━━━━━━━━━━━\u001b[0m\u001b[37m\u001b[0m \u001b[1m0s\u001b[0m 71ms/step\n",
      "Image: ./Testing/baju_batik_asli.jpg -> Predicted Category: sogan with confidence: 92.02%\n",
      "\u001b[1m1/1\u001b[0m \u001b[32m━━━━━━━━━━━━━━━━━━━━\u001b[0m\u001b[37m\u001b[0m \u001b[1m0s\u001b[0m 22ms/step\n",
      "Image: ./Testing/megamendung_batik.jpg -> Predicted Category: megamendung with confidence: 86.81%\n",
      "\u001b[1m1/1\u001b[0m \u001b[32m━━━━━━━━━━━━━━━━━━━━\u001b[0m\u001b[37m\u001b[0m \u001b[1m0s\u001b[0m 21ms/step\n",
      "Image: ./Testing/Pekalongan_batik.jpg -> Predicted Category: sidomukti with confidence: 21.34%\n"
     ]
    }
   ],
   "source": [
    "import os\n",
    "from tensorflow.keras.models import load_model\n",
    "from tensorflow.keras.utils import img_to_array, load_img\n",
    "import numpy as np\n",
    "import cv2\n",
    "\n",
    "model = load_model(\"CNN_model.h5\")\n",
    "label_classes = ['bali', 'betawi', 'celup', 'cendrawasih', 'ceplok', 'ciamis', 'garutan', 'gentongan', 'kawung', 'keraton', 'lasem', 'megamendung', 'parang', 'pekalongan', 'priangan', 'sekar', 'sidoluhur', 'sidomukti', 'sogan', 'tambal'] \n",
    "\n",
    "def preprocess_image(image_path):\n",
    "    image = load_img(image_path)\n",
    "    image = img_to_array(image)\n",
    "    image = cv2.cvtColor(image, cv2.COLOR_BGR2GRAY)\n",
    "    \n",
    "    edges = cv2.Canny(image.astype(np.uint8), threshold1=100, threshold2=200)\n",
    "    edges = edges / 255.0 \n",
    "\n",
    "    processed_image = cv2.resize(edges, (256, 256))\n",
    "    processed_image = np.expand_dims(processed_image, axis=-1) \n",
    "    processed_image = np.expand_dims(processed_image, axis=0)  \n",
    "    return processed_image\n",
    "\n",
    "def results(image_path):\n",
    "    processed_image = preprocess_image(image_path)\n",
    "    predictions = model.predict(processed_image)\n",
    "    predicted_class = np.argmax(predictions)\n",
    "    class_label = label_classes[predicted_class]\n",
    "    confidence = np.max(predictions) * 100\n",
    "    print(f\"Image: {image_path} -> Predicted Category: {class_label} with confidence: {confidence:.2f}%\")\n",
    "\n",
    "test_dir = \"./Testing/\"\n",
    "\n",
    "for test_image in os.listdir(test_dir):\n",
    "    image_path = os.path.join(test_dir, test_image)\n",
    "    results(image_path)\n"
   ]
  }
 ],
 "metadata": {
  "kernelspec": {
   "display_name": "Python 3",
   "language": "python",
   "name": "python3"
  },
  "language_info": {
   "codemirror_mode": {
    "name": "ipython",
    "version": 3
   },
   "file_extension": ".py",
   "mimetype": "text/x-python",
   "name": "python",
   "nbconvert_exporter": "python",
   "pygments_lexer": "ipython3",
   "version": "3.10.11"
  }
 },
 "nbformat": 4,
 "nbformat_minor": 2
}
